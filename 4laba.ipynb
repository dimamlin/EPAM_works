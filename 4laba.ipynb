{
 "cells": [
  {
   "cell_type": "code",
   "execution_count": 103,
   "metadata": {},
   "outputs": [],
   "source": [
    "import pandas as pd\n",
    "import numpy as np\n",
    "import matplotlib.pyplot as plt\n",
    "from sklearn.linear_model import LinearRegression"
   ]
  },
  {
   "cell_type": "code",
   "execution_count": 5,
   "metadata": {},
   "outputs": [
    {
     "data": {
      "text/html": [
       "<div>\n",
       "<style scoped>\n",
       "    .dataframe tbody tr th:only-of-type {\n",
       "        vertical-align: middle;\n",
       "    }\n",
       "\n",
       "    .dataframe tbody tr th {\n",
       "        vertical-align: top;\n",
       "    }\n",
       "\n",
       "    .dataframe thead th {\n",
       "        text-align: right;\n",
       "    }\n",
       "</style>\n",
       "<table border=\"1\" class=\"dataframe\">\n",
       "  <thead>\n",
       "    <tr style=\"text-align: right;\">\n",
       "      <th></th>\n",
       "      <th>t</th>\n",
       "      <th>y</th>\n",
       "      <th>yt-1</th>\n",
       "      <th>yt-y1|</th>\n",
       "      <th>yt-1-y2|</th>\n",
       "      <th>multi</th>\n",
       "      <th>yt-y1|^2</th>\n",
       "      <th>yt-1-y2|^2</th>\n",
       "    </tr>\n",
       "  </thead>\n",
       "  <tbody>\n",
       "    <tr>\n",
       "      <th>1</th>\n",
       "      <td>2</td>\n",
       "      <td>371</td>\n",
       "      <td>375.0</td>\n",
       "      <td>-328.933333</td>\n",
       "      <td>-288.133333</td>\n",
       "      <td>94776.657778</td>\n",
       "      <td>108197.137778</td>\n",
       "      <td>83020.817778</td>\n",
       "    </tr>\n",
       "    <tr>\n",
       "      <th>2</th>\n",
       "      <td>3</td>\n",
       "      <td>869</td>\n",
       "      <td>371.0</td>\n",
       "      <td>169.066667</td>\n",
       "      <td>-292.133333</td>\n",
       "      <td>-49390.008889</td>\n",
       "      <td>28583.537778</td>\n",
       "      <td>85341.884444</td>\n",
       "    </tr>\n",
       "    <tr>\n",
       "      <th>3</th>\n",
       "      <td>4</td>\n",
       "      <td>1015</td>\n",
       "      <td>869.0</td>\n",
       "      <td>315.066667</td>\n",
       "      <td>205.866667</td>\n",
       "      <td>64861.724444</td>\n",
       "      <td>99267.004444</td>\n",
       "      <td>42381.084444</td>\n",
       "    </tr>\n",
       "    <tr>\n",
       "      <th>4</th>\n",
       "      <td>5</td>\n",
       "      <td>357</td>\n",
       "      <td>1015.0</td>\n",
       "      <td>-342.933333</td>\n",
       "      <td>351.866667</td>\n",
       "      <td>-120666.808889</td>\n",
       "      <td>117603.271111</td>\n",
       "      <td>123810.151111</td>\n",
       "    </tr>\n",
       "    <tr>\n",
       "      <th>5</th>\n",
       "      <td>6</td>\n",
       "      <td>471</td>\n",
       "      <td>357.0</td>\n",
       "      <td>-228.933333</td>\n",
       "      <td>-306.133333</td>\n",
       "      <td>70084.124444</td>\n",
       "      <td>52410.471111</td>\n",
       "      <td>93717.617778</td>\n",
       "    </tr>\n",
       "    <tr>\n",
       "      <th>6</th>\n",
       "      <td>7</td>\n",
       "      <td>992</td>\n",
       "      <td>471.0</td>\n",
       "      <td>292.066667</td>\n",
       "      <td>-192.133333</td>\n",
       "      <td>-56115.742222</td>\n",
       "      <td>85302.937778</td>\n",
       "      <td>36915.217778</td>\n",
       "    </tr>\n",
       "    <tr>\n",
       "      <th>7</th>\n",
       "      <td>8</td>\n",
       "      <td>1020</td>\n",
       "      <td>992.0</td>\n",
       "      <td>320.066667</td>\n",
       "      <td>328.866667</td>\n",
       "      <td>105259.257778</td>\n",
       "      <td>102442.671111</td>\n",
       "      <td>108153.284444</td>\n",
       "    </tr>\n",
       "    <tr>\n",
       "      <th>8</th>\n",
       "      <td>9</td>\n",
       "      <td>390</td>\n",
       "      <td>1020.0</td>\n",
       "      <td>-309.933333</td>\n",
       "      <td>356.866667</td>\n",
       "      <td>-110604.875556</td>\n",
       "      <td>96058.671111</td>\n",
       "      <td>127353.817778</td>\n",
       "    </tr>\n",
       "    <tr>\n",
       "      <th>9</th>\n",
       "      <td>10</td>\n",
       "      <td>355</td>\n",
       "      <td>390.0</td>\n",
       "      <td>-344.933333</td>\n",
       "      <td>-273.133333</td>\n",
       "      <td>94212.791111</td>\n",
       "      <td>118979.004444</td>\n",
       "      <td>74601.817778</td>\n",
       "    </tr>\n",
       "    <tr>\n",
       "      <th>10</th>\n",
       "      <td>11</td>\n",
       "      <td>992</td>\n",
       "      <td>355.0</td>\n",
       "      <td>292.066667</td>\n",
       "      <td>-308.133333</td>\n",
       "      <td>-89995.475556</td>\n",
       "      <td>85302.937778</td>\n",
       "      <td>94946.151111</td>\n",
       "    </tr>\n",
       "    <tr>\n",
       "      <th>11</th>\n",
       "      <td>12</td>\n",
       "      <td>905</td>\n",
       "      <td>992.0</td>\n",
       "      <td>205.066667</td>\n",
       "      <td>328.866667</td>\n",
       "      <td>67439.591111</td>\n",
       "      <td>42052.337778</td>\n",
       "      <td>108153.284444</td>\n",
       "    </tr>\n",
       "    <tr>\n",
       "      <th>12</th>\n",
       "      <td>13</td>\n",
       "      <td>461</td>\n",
       "      <td>905.0</td>\n",
       "      <td>-238.933333</td>\n",
       "      <td>241.866667</td>\n",
       "      <td>-57790.008889</td>\n",
       "      <td>57089.137778</td>\n",
       "      <td>58499.484444</td>\n",
       "    </tr>\n",
       "    <tr>\n",
       "      <th>13</th>\n",
       "      <td>14</td>\n",
       "      <td>454</td>\n",
       "      <td>461.0</td>\n",
       "      <td>-245.933333</td>\n",
       "      <td>-202.133333</td>\n",
       "      <td>49711.324444</td>\n",
       "      <td>60483.204444</td>\n",
       "      <td>40857.884444</td>\n",
       "    </tr>\n",
       "    <tr>\n",
       "      <th>14</th>\n",
       "      <td>15</td>\n",
       "      <td>920</td>\n",
       "      <td>454.0</td>\n",
       "      <td>220.066667</td>\n",
       "      <td>-209.133333</td>\n",
       "      <td>-46023.275556</td>\n",
       "      <td>48429.337778</td>\n",
       "      <td>43736.751111</td>\n",
       "    </tr>\n",
       "    <tr>\n",
       "      <th>15</th>\n",
       "      <td>16</td>\n",
       "      <td>927</td>\n",
       "      <td>920.0</td>\n",
       "      <td>227.066667</td>\n",
       "      <td>256.866667</td>\n",
       "      <td>58325.857778</td>\n",
       "      <td>51559.271111</td>\n",
       "      <td>65980.484444</td>\n",
       "    </tr>\n",
       "  </tbody>\n",
       "</table>\n",
       "</div>"
      ],
      "text/plain": [
       "     t     y    yt-1      yt-y1|    yt-1-y2|          multi       yt-y1|^2  \\\n",
       "1    2   371   375.0 -328.933333 -288.133333   94776.657778  108197.137778   \n",
       "2    3   869   371.0  169.066667 -292.133333  -49390.008889   28583.537778   \n",
       "3    4  1015   869.0  315.066667  205.866667   64861.724444   99267.004444   \n",
       "4    5   357  1015.0 -342.933333  351.866667 -120666.808889  117603.271111   \n",
       "5    6   471   357.0 -228.933333 -306.133333   70084.124444   52410.471111   \n",
       "6    7   992   471.0  292.066667 -192.133333  -56115.742222   85302.937778   \n",
       "7    8  1020   992.0  320.066667  328.866667  105259.257778  102442.671111   \n",
       "8    9   390  1020.0 -309.933333  356.866667 -110604.875556   96058.671111   \n",
       "9   10   355   390.0 -344.933333 -273.133333   94212.791111  118979.004444   \n",
       "10  11   992   355.0  292.066667 -308.133333  -89995.475556   85302.937778   \n",
       "11  12   905   992.0  205.066667  328.866667   67439.591111   42052.337778   \n",
       "12  13   461   905.0 -238.933333  241.866667  -57790.008889   57089.137778   \n",
       "13  14   454   461.0 -245.933333 -202.133333   49711.324444   60483.204444   \n",
       "14  15   920   454.0  220.066667 -209.133333  -46023.275556   48429.337778   \n",
       "15  16   927   920.0  227.066667  256.866667   58325.857778   51559.271111   \n",
       "\n",
       "       yt-1-y2|^2  \n",
       "1    83020.817778  \n",
       "2    85341.884444  \n",
       "3    42381.084444  \n",
       "4   123810.151111  \n",
       "5    93717.617778  \n",
       "6    36915.217778  \n",
       "7   108153.284444  \n",
       "8   127353.817778  \n",
       "9    74601.817778  \n",
       "10   94946.151111  \n",
       "11  108153.284444  \n",
       "12   58499.484444  \n",
       "13   40857.884444  \n",
       "14   43736.751111  \n",
       "15   65980.484444  "
      ]
     },
     "execution_count": 5,
     "metadata": {},
     "output_type": "execute_result"
    }
   ],
   "source": [
    "def cor(df,lvl):\n",
    "    df=df.dropna()\n",
    "    return df\n",
    "cor(df,None)\n"
   ]
  },
  {
   "cell_type": "code",
   "execution_count": 4,
   "metadata": {},
   "outputs": [
    {
     "name": "stderr",
     "output_type": "stream",
     "text": [
      "c:\\users\\user2020\\appdata\\local\\programs\\python\\python37\\lib\\site-packages\\pandas\\core\\indexing.py:670: SettingWithCopyWarning: \n",
      "A value is trying to be set on a copy of a slice from a DataFrame\n",
      "\n",
      "See the caveats in the documentation: https://pandas.pydata.org/pandas-docs/stable/user_guide/indexing.html#returning-a-view-versus-a-copy\n",
      "  iloc._setitem_with_indexer(indexer, value)\n"
     ]
    },
    {
     "data": {
      "text/plain": [
       "-0.9611828443256142"
      ]
     },
     "execution_count": 4,
     "metadata": {},
     "output_type": "execute_result"
    }
   ],
   "source": [
    "data = {\n",
    "    't': np.arange(1,17),\n",
    "    'y': [375,371,869,1015,357,471,992,1020,390,355,992,905,461,454,920,927]\n",
    "}\n",
    "df=pd.DataFrame(data, columns=['t','y'])\n",
    "df['yt-1']=np.nan\n",
    "\n",
    "df1=pd.DataFrame(data, columns=['t','y'])\n",
    "df1['yt-2']=np.nan\n",
    "\n",
    "df2=pd.DataFrame(data, columns=['t','y'])\n",
    "df2['yt-3']=np.nan\n",
    "\n",
    "df3=pd.DataFrame(data, columns=['t','y'])\n",
    "df3['yt-4']=np.nan\n",
    "\n",
    "df4=pd.DataFrame(data, columns=['t','y'])\n",
    "df4['yt-5']=np.nan\n",
    "\n",
    "df5=pd.DataFrame(data, columns=['t','y'])\n",
    "df5['yt-6']=np.nan\n",
    "df6=pd.DataFrame(data, columns=['t','y'])\n",
    "df6['yt-7']=np.nan\n",
    "df7=pd.DataFrame(data, columns=['t','y'])\n",
    "df7['yt-8']=np.nan\n",
    "df8=pd.DataFrame(data, columns=['t','y'])\n",
    "df8['yt-9']=np.nan\n",
    "df9=pd.DataFrame(data, columns=['t','y'])\n",
    "df9['yt-10']=np.nan\n",
    "df10=pd.DataFrame(data, columns=['t','y'])\n",
    "df10['yt-11']=np.nan\n",
    "df11=pd.DataFrame(data, columns=['t','y'])\n",
    "df11['yt-12']=np.nan\n",
    "\n",
    "for i in np.arange(1,len(df)):\n",
    "    df['yt-1'].loc[i]=df['y'].loc[i-1]\n",
    "\n",
    "for i in np.arange(2,len(df)):\n",
    "    df1['yt-2'].loc[i]=df['y'].loc[i-2]\n",
    "\n",
    "for i in np.arange(3,len(df)):\n",
    "    df2['yt-3'].loc[i]=df['y'].loc[i-3]\n",
    "for i in np.arange(4,len(df)):\n",
    "    df3['yt-4'].loc[i]=df['y'].loc[i-4]\n",
    "for i in np.arange(5,len(df)):\n",
    "    df4['yt-5'].loc[i]=df['y'].loc[i-5]\n",
    "for i in np.arange(6,len(df)):\n",
    "    df5['yt-6'].loc[i]=df['y'].loc[i-6]\n",
    "for i in np.arange(7,len(df)):\n",
    "    df6['yt-7'].loc[i]=df['y'].loc[i-7]\n",
    "for i in np.arange(8,len(df)):\n",
    "    df7['yt-8'].loc[i]=df['y'].loc[i-8]\n",
    "for i in np.arange(9,len(df)):\n",
    "    df8['yt-9'].loc[i]=df['y'].loc[i-9]\n",
    "for i in np.arange(10,len(df)):\n",
    "    df9['yt-10'].loc[i]=df['y'].loc[i-10]\n",
    "for i in np.arange(11,len(df)):\n",
    "    df10['yt-11'].loc[i]=df['y'].loc[i-11]\n",
    "for i in np.arange(12,len(df)):\n",
    "    df11['yt-12'].loc[i]=df['y'].loc[i-12]\n",
    "    \n",
    "df['yt-y1|']= df['y']\n",
    "df['yt-1-y2|']= df['yt-1']\n",
    "\n",
    "df['yt-y1|']-=df.dropna()['y'].sum()/(len(df)-1)\n",
    "df['yt-1-y2|']-=df.dropna()['yt-1'].sum()/(len(df)-1)\n",
    "df['multi']=df['yt-y1|']*df['yt-1-y2|']\n",
    "df['yt-y1|^2']=df['yt-y1|']**2\n",
    "df['yt-1-y2|^2']=df['yt-1-y2|']**2\n",
    "r1 = df['multi'].sum()/(np.sqrt(df.dropna()['yt-y1|^2'].sum()*df['yt-1-y2|^2'].sum()))\n",
    "\n",
    "df\n",
    "df1['yt-y3|']= df1['y']\n",
    "df1['yt-2-y4|']= df1['yt-2']\n",
    "df1['yt-y3|']-=df1.dropna()['y'].sum()/(len(df1)-2)\n",
    "df1['yt-2-y4|']-=df1.dropna()['yt-2'].sum()/(len(df1)-2)\n",
    "\n",
    "df1['multi']=df1['yt-y3|']*df1['yt-2-y4|']\n",
    "df1['yt-y3|^2']=df1['yt-y3|']**2\n",
    "df1['yt-2-y4|^2']=df1['yt-2-y4|']**2\n",
    "r2 = df1['multi'].sum()/(np.sqrt(df1.dropna()['yt-y3|^2'].sum()*df1['yt-2-y4|^2'].sum()))\n",
    "r2\n",
    "\n",
    "\n"
   ]
  },
  {
   "cell_type": "code",
   "execution_count": 68,
   "metadata": {},
   "outputs": [
    {
     "data": {
      "text/plain": [
       "-0.03629027226082808"
      ]
     },
     "execution_count": 68,
     "metadata": {},
     "output_type": "execute_result"
    }
   ],
   "source": [
    "df2['yt-y1|']= df2['y']\n",
    "df2['yt-1-y2|']= df2['yt-3']\n",
    "\n",
    "df2['yt-y1|']-=df2.dropna()['y'].sum()/(len(df2)-3)\n",
    "df2['yt-1-y2|']-=df2.dropna()['yt-3'].sum()/(len(df2)-3)\n",
    "df2['multi']=df2['yt-y1|']*df2['yt-1-y2|']\n",
    "df2['yt-y1|^2']=df2['yt-y1|']**2\n",
    "df2['yt-1-y2|^2']=df2['yt-1-y2|']**2\n",
    "r3 = df2['multi'].sum()/(np.sqrt(df2.dropna()['yt-y1|^2'].sum()*df2['yt-1-y2|^2'].sum()))\n"
   ]
  },
  {
   "cell_type": "code",
   "execution_count": 6,
   "metadata": {},
   "outputs": [],
   "source": [
    "df3['yt-y1|']= df3['y']\n",
    "df3['yt-1-y2|']= df3['yt-4']\n",
    "\n",
    "df3['yt-y1|']-=df3.dropna()['y'].sum()/(len(df3)-4)\n",
    "df3['yt-1-y2|']-=df3.dropna()['yt-4'].sum()/(len(df3)-4)\n",
    "df3['multi']=df3['yt-y1|']*df3['yt-1-y2|']\n",
    "df3['yt-y1|^2']=df3['yt-y1|']**2\n",
    "df3['yt-1-y2|^2']=df3['yt-1-y2|']**2\n",
    "r4 = df3['multi'].sum()/(np.sqrt(df3.dropna()['yt-y1|^2'].sum()*df3['yt-1-y2|^2'].sum()))\n",
    "\n",
    "def cor(df, lvl):\n",
    "    df['yt-y1|']= df['y']\n",
    "    df['yt-1-y2|']= df['yt-'+str(lvl)]\n",
    "\n",
    "    df['yt-y1|']-=df.dropna()['y'].sum()/(len(df)-lvl)\n",
    "    df['yt-1-y2|']-=df.dropna()['yt-'+str(lvl)].sum()/(len(df)-lvl)\n",
    "    df['multi']=df['yt-y1|']*df['yt-1-y2|']\n",
    "    df['yt-y1|^2']=df['yt-y1|']**2\n",
    "    df['yt-1-y2|^2']=df['yt-1-y2|']**2\n",
    "    return df['multi'].sum()/(np.sqrt(df.dropna()['yt-y1|^2'].sum()*df['yt-1-y2|^2'].sum()))\n",
    "c=[cor(df,1),cor(df1,2),cor(df2,3),cor(df3,4),cor(df4,5),cor(df5,6),cor(df6,7),cor(df7,8),cor(df8,9),cor(df9,10),cor(df10,11),cor(df11,12)]"
   ]
  },
  {
   "cell_type": "code",
   "execution_count": 8,
   "metadata": {},
   "outputs": [
    {
     "data": {
      "text/plain": [
       "[<matplotlib.lines.Line2D at 0x297ffe79fc8>]"
      ]
     },
     "execution_count": 8,
     "metadata": {},
     "output_type": "execute_result"
    },
    {
     "data": {
      "image/png": "[encoded data removed]",
      "text/plain": [
       "<Figure size 432x288 with 1 Axes>"
      ]
     },
     "metadata": {
      "needs_background": "light"
     },
     "output_type": "display_data"
    }
   ],
   "source": [
    "plt.plot(range(len(c)),c)"
   ]
  },
  {
   "cell_type": "code",
   "execution_count": 102,
   "metadata": {},
   "outputs": [
    {
     "data": {
      "text/plain": [
       "array([-292.35416667, -266.8125    ,  268.60416667,  290.5625    ])"
      ]
     },
     "execution_count": 102,
     "metadata": {},
     "output_type": "execute_result"
    }
   ],
   "source": [
    "\n",
    "\n",
    "avg_4 = np.array([df['y'][i]+df['y'][i+1]+df['y'][i+2]+df['y'][i+3] for i in range(0,len(df['y'])) if i<=len(df['y'])-4])\n",
    "avg = avg_4/4\n",
    "\n",
    "avg_2 = [(avg[i]+avg[i+1])/2 for i in range(0,len(avg)) if i<=len(avg)-2]\n",
    "avg_2\n",
    "\n",
    "Scomp = np.array([df['y'][i]  for i in range(2,len(df['y'])-2)])\n",
    "Scomp = Scomp - avg_2\n",
    "\n",
    "k3=[]\n",
    "k4=[]\n",
    "k1=[]\n",
    "k2=[]\n",
    "\n",
    "k=0\n",
    "\n",
    "for i in range(0,len(Scomp)):\n",
    "    if(k==0):\n",
    "        k3.append(Scomp[i])\n",
    "        k+=1\n",
    "        continue\n",
    "    if(k==1):\n",
    "        k4.append(Scomp[i])\n",
    "        k+=1\n",
    "        continue\n",
    "    if(k==2):\n",
    "        k1.append(Scomp[i])\n",
    "        k+=1\n",
    "        continue\n",
    "    if(k==3):\n",
    "        k2.append(Scomp[i])\n",
    "        k=0\n",
    "        continue\n",
    "k3 = np.array(k3)\n",
    "k2 = np.array(k2)\n",
    "k1 = np.array(k1)\n",
    "k4 = np.array(k4)\n",
    "\n",
    "k=(k2.mean()+k1.mean()+k3.mean()+k4.mean())/4\n",
    "\n",
    "Si = np.array([k1.mean()-k,k2.mean()-k,k3.mean()-k,k4.mean()-k])\n",
    "Si.sum()\n",
    "Si\n",
    "\n"
   ]
  },
  {
   "cell_type": "code",
   "execution_count": 223,
   "metadata": {},
   "outputs": [
    {
     "name": "stdout",
     "output_type": "stream",
     "text": [
      "[0.98468088] 679.625\n"
     ]
    },
    {
     "data": {
      "text/html": [
       "<div>\n",
       "<style scoped>\n",
       "    .dataframe tbody tr th:only-of-type {\n",
       "        vertical-align: middle;\n",
       "    }\n",
       "\n",
       "    .dataframe tbody tr th {\n",
       "        vertical-align: top;\n",
       "    }\n",
       "\n",
       "    .dataframe thead th {\n",
       "        text-align: right;\n",
       "    }\n",
       "</style>\n",
       "<table border=\"1\" class=\"dataframe\">\n",
       "  <thead>\n",
       "    <tr style=\"text-align: right;\">\n",
       "      <th></th>\n",
       "      <th>s</th>\n",
       "      <th>y</th>\n",
       "      <th>y-s</th>\n",
       "      <th>T</th>\n",
       "      <th>E2</th>\n",
       "    </tr>\n",
       "  </thead>\n",
       "  <tbody>\n",
       "    <tr>\n",
       "      <th>0</th>\n",
       "      <td>-292.354167</td>\n",
       "      <td>375</td>\n",
       "      <td>667.354167</td>\n",
       "      <td>680.609681</td>\n",
       "      <td>175.708657</td>\n",
       "    </tr>\n",
       "    <tr>\n",
       "      <th>1</th>\n",
       "      <td>-266.812500</td>\n",
       "      <td>371</td>\n",
       "      <td>637.812500</td>\n",
       "      <td>681.594362</td>\n",
       "      <td>1916.851420</td>\n",
       "    </tr>\n",
       "    <tr>\n",
       "      <th>2</th>\n",
       "      <td>268.604167</td>\n",
       "      <td>869</td>\n",
       "      <td>600.395833</td>\n",
       "      <td>682.579043</td>\n",
       "      <td>6754.079894</td>\n",
       "    </tr>\n",
       "    <tr>\n",
       "      <th>3</th>\n",
       "      <td>290.562500</td>\n",
       "      <td>1015</td>\n",
       "      <td>724.437500</td>\n",
       "      <td>683.563724</td>\n",
       "      <td>1670.665602</td>\n",
       "    </tr>\n",
       "    <tr>\n",
       "      <th>4</th>\n",
       "      <td>-292.354167</td>\n",
       "      <td>357</td>\n",
       "      <td>649.354167</td>\n",
       "      <td>684.548404</td>\n",
       "      <td>1238.634371</td>\n",
       "    </tr>\n",
       "    <tr>\n",
       "      <th>5</th>\n",
       "      <td>-266.812500</td>\n",
       "      <td>471</td>\n",
       "      <td>737.812500</td>\n",
       "      <td>685.533085</td>\n",
       "      <td>2733.137200</td>\n",
       "    </tr>\n",
       "    <tr>\n",
       "      <th>6</th>\n",
       "      <td>268.604167</td>\n",
       "      <td>992</td>\n",
       "      <td>723.395833</td>\n",
       "      <td>686.517766</td>\n",
       "      <td>1359.991836</td>\n",
       "    </tr>\n",
       "    <tr>\n",
       "      <th>7</th>\n",
       "      <td>290.562500</td>\n",
       "      <td>1020</td>\n",
       "      <td>729.437500</td>\n",
       "      <td>687.502447</td>\n",
       "      <td>1758.548664</td>\n",
       "    </tr>\n",
       "    <tr>\n",
       "      <th>8</th>\n",
       "      <td>-292.354167</td>\n",
       "      <td>390</td>\n",
       "      <td>682.354167</td>\n",
       "      <td>688.487128</td>\n",
       "      <td>37.613214</td>\n",
       "    </tr>\n",
       "    <tr>\n",
       "      <th>9</th>\n",
       "      <td>-266.812500</td>\n",
       "      <td>355</td>\n",
       "      <td>621.812500</td>\n",
       "      <td>689.471809</td>\n",
       "      <td>4577.782074</td>\n",
       "    </tr>\n",
       "    <tr>\n",
       "      <th>10</th>\n",
       "      <td>268.604167</td>\n",
       "      <td>992</td>\n",
       "      <td>723.395833</td>\n",
       "      <td>690.456490</td>\n",
       "      <td>1085.000357</td>\n",
       "    </tr>\n",
       "    <tr>\n",
       "      <th>11</th>\n",
       "      <td>290.562500</td>\n",
       "      <td>905</td>\n",
       "      <td>614.437500</td>\n",
       "      <td>691.441171</td>\n",
       "      <td>5929.565289</td>\n",
       "    </tr>\n",
       "    <tr>\n",
       "      <th>12</th>\n",
       "      <td>-292.354167</td>\n",
       "      <td>461</td>\n",
       "      <td>753.354167</td>\n",
       "      <td>692.425852</td>\n",
       "      <td>3712.259589</td>\n",
       "    </tr>\n",
       "    <tr>\n",
       "      <th>13</th>\n",
       "      <td>-266.812500</td>\n",
       "      <td>454</td>\n",
       "      <td>720.812500</td>\n",
       "      <td>693.410532</td>\n",
       "      <td>750.867829</td>\n",
       "    </tr>\n",
       "    <tr>\n",
       "      <th>14</th>\n",
       "      <td>268.604167</td>\n",
       "      <td>920</td>\n",
       "      <td>651.395833</td>\n",
       "      <td>694.395213</td>\n",
       "      <td>1848.946675</td>\n",
       "    </tr>\n",
       "    <tr>\n",
       "      <th>15</th>\n",
       "      <td>290.562500</td>\n",
       "      <td>927</td>\n",
       "      <td>636.437500</td>\n",
       "      <td>695.379894</td>\n",
       "      <td>3474.205829</td>\n",
       "    </tr>\n",
       "  </tbody>\n",
       "</table>\n",
       "</div>"
      ],
      "text/plain": [
       "             s     y         y-s           T           E2\n",
       "0  -292.354167   375  667.354167  680.609681   175.708657\n",
       "1  -266.812500   371  637.812500  681.594362  1916.851420\n",
       "2   268.604167   869  600.395833  682.579043  6754.079894\n",
       "3   290.562500  1015  724.437500  683.563724  1670.665602\n",
       "4  -292.354167   357  649.354167  684.548404  1238.634371\n",
       "5  -266.812500   471  737.812500  685.533085  2733.137200\n",
       "6   268.604167   992  723.395833  686.517766  1359.991836\n",
       "7   290.562500  1020  729.437500  687.502447  1758.548664\n",
       "8  -292.354167   390  682.354167  688.487128    37.613214\n",
       "9  -266.812500   355  621.812500  689.471809  4577.782074\n",
       "10  268.604167   992  723.395833  690.456490  1085.000357\n",
       "11  290.562500   905  614.437500  691.441171  5929.565289\n",
       "12 -292.354167   461  753.354167  692.425852  3712.259589\n",
       "13 -266.812500   454  720.812500  693.410532   750.867829\n",
       "14  268.604167   920  651.395833  694.395213  1848.946675\n",
       "15  290.562500   927  636.437500  695.379894  3474.205829"
      ]
     },
     "execution_count": 223,
     "metadata": {},
     "output_type": "execute_result"
    }
   ],
   "source": [
    "y=df['y']\n",
    "t=df['t']\n",
    "c = np.hstack((Si,Si,Si,Si))\n",
    "\n",
    "df2=pd.DataFrame(data=c,columns=['s'])\n",
    "df2['y']=df['y']\n",
    "df2['y-s']=df2['y']-df2['s']\n",
    "model = LinearRegression().fit(df2[['s']],df2['y'])\n",
    "a1, a0 = model.coef_[0], model.intercept_\n",
    "print(model.coef_, model.intercept_)\n",
    "df2['T']=model.intercept_ + model.coef_*(df2.index+1)\n",
    "df2['E2']=(df2['y']-(df2['T']+df2['s']))**2\n",
    "df2"
   ]
  },
  {
   "cell_type": "code",
   "execution_count": 181,
   "metadata": {},
   "outputs": [
    {
     "data": {
      "text/plain": [
       "[<matplotlib.lines.Line2D at 0x2978bde2e48>]"
      ]
     },
     "execution_count": 181,
     "metadata": {},
     "output_type": "execute_result"
    },
    {
     "data": {
      "image/png": "[encoded data removed]",
      "text/plain": [
       "<Figure size 432x288 with 1 Axes>"
      ]
     },
     "metadata": {
      "needs_background": "light"
     },
     "output_type": "display_data"
    }
   ],
   "source": [
    "df2['t']=range(1,17)\n",
    "plt.plot(df2['t'], df2['y'])\n",
    "plt.plot(df2['t'], df2['T']+df2['s'])"
   ]
  },
  {
   "cell_type": "code",
   "execution_count": 200,
   "metadata": {},
   "outputs": [
    {
     "data": {
      "text/plain": [
       "0.9690474274484079"
      ]
     },
     "execution_count": 200,
     "metadata": {},
     "output_type": "execute_result"
    }
   ],
   "source": [
    "R2 = 1-(df2['E2'].sum())\n",
    "\n",
    "1-df2['E2'].sum()/((df2['y']-df2['y'].mean())**2).sum()"
   ]
  },
  {
   "cell_type": "code",
   "execution_count": 229,
   "metadata": {},
   "outputs": [
    {
     "name": "stdout",
     "output_type": "stream",
     "text": [
      "[404.01040838]\n",
      "[430.53675593]\n",
      "[966.93810348]\n",
      "[989.8811177]\n"
     ]
    }
   ],
   "source": [
    "for i in range(17, 21):    \n",
    "    print((model.intercept_ + model.coef_*i)+Si[i-17])"
   ]
  },
  {
   "cell_type": "code",
   "execution_count": 208,
   "metadata": {},
   "outputs": [],
   "source": [
    "import statsmodels.api as sm\n",
    "from statsmodels.tsa.seasonal import seasonal_decompose"
   ]
  },
  {
   "cell_type": "code",
   "execution_count": 209,
   "metadata": {},
   "outputs": [
    {
     "name": "stderr",
     "output_type": "stream",
     "text": [
      "c:\\users\\user2020\\appdata\\local\\programs\\python\\python37\\lib\\site-packages\\ipykernel_launcher.py:2: FutureWarning: the 'freq'' keyword is deprecated, use 'period' instead\n",
      "  \n"
     ]
    },
    {
     "data": {
      "image/png": "[encoded data removed]",
      "text/plain": [
       "<Figure size 432x288 with 4 Axes>"
      ]
     },
     "metadata": {
      "needs_background": "light"
     },
     "output_type": "display_data"
    }
   ],
   "source": [
    "series = pd.Series([i for i in df. y], index=pd.Index([int(i - 1) for i in df.t], name='idx'))\n",
    "result = seasonal_decompose(series, model='multiplicative', freq=4)\n",
    "result.plot()\n",
    "plt.show()"
   ]
  },
  {
   "cell_type": "code",
   "execution_count": 217,
   "metadata": {},
   "outputs": [
    {
     "data": {
      "text/plain": [
       "'y = (655.7444800515518 + 0.034991304445136234* t) * S'"
      ]
     },
     "execution_count": 217,
     "metadata": {},
     "output_type": "execute_result"
    }
   ],
   "source": [
    "df[\"S\"] = result.seasonal\n",
    "df[\"yS\"] = df[\"y\"] / df[\"S\"]\n",
    "\n",
    "yt = df.yS\n",
    "xt = df.drop(labels=[\"S\", \"y\", \"yS\"], axis=1)\n",
    "\n",
    "model = LinearRegression().fit(df[['y']], yt)\n",
    "a1, a0 = model.coef_[0], model.intercept_\n",
    "\"y = (\" + str(a0) + \" + \" + str(a1) + \"* t) * S\""
   ]
  },
  {
   "cell_type": "code",
   "execution_count": 221,
   "metadata": {},
   "outputs": [
    {
     "data": {
      "text/plain": [
       "0.961425897931025"
      ]
     },
     "execution_count": 221,
     "metadata": {},
     "output_type": "execute_result"
    }
   ],
   "source": [
    "df[\"tt\"] = pd.Series([a0 + a1 * i for i in range(1, 17)])\n",
    "df[\"TS\"] = df[\"tt\"] * df.S\n",
    "df[\"E\"] = df.y - df.TS\n",
    "df[\"E2\"] = df.E ** 2\n",
    "R2 = 1 - (np.sum(df.E2)/(np.sum((df.y - np.mean(df.y)) ** 2)))\n",
    "R2"
   ]
  },
  {
   "cell_type": "code",
   "execution_count": 231,
   "metadata": {},
   "outputs": [
    {
     "name": "stdout",
     "output_type": "stream",
     "text": [
      "402.4514003662786\n",
      "427.3040232416123\n",
      "970.7830889497195\n",
      "992.4531407703239\n"
     ]
    }
   ],
   "source": [
    "for i in range(17, 21):\n",
    "    ans = (a0 + a1 * i) * result.seasonal[(i - 1) % 4]\n",
    "    print(ans)"
   ]
  }
 ],
 "metadata": {
  "kernelspec": {
   "display_name": "Python 3",
   "language": "python",
   "name": "python3"
  },
  "language_info": {
   "codemirror_mode": {
    "name": "ipython",
    "version": 3
   },
   "file_extension": ".py",
   "mimetype": "text/x-python",
   "name": "python",
   "nbconvert_exporter": "python",
   "pygments_lexer": "ipython3",
   "version": "3.7.9"
  }
 },
 "nbformat": 4,
 "nbformat_minor": 4
}
